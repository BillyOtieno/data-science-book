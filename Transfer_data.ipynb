{
 "cells": [
  {
   "cell_type": "code",
   "execution_count": 10,
   "metadata": {},
   "outputs": [
    {
     "name": "stdout",
     "output_type": "stream",
     "text": [
      "meuse_grid_inlaspde\n",
      "(3103, 13)\n"
     ]
    },
    {
     "name": "stderr",
     "output_type": "stream",
     "text": [
      "/Users/giulia/anaconda3/lib/python3.7/site-packages/carto/sql.py:229: UserWarning: Batch SQL job created with job_id: 792005c1-de83-4316-8318-7be6f721b1f2\n",
      "  warnings.warn('Batch SQL job created with job_id: {job_id}'.format(job_id=data['job_id']))\n"
     ]
    },
    {
     "name": "stdout",
     "output_type": "stream",
     "text": [
      "meuse_inlaspde\n",
      "(155, 23)\n"
     ]
    },
    {
     "name": "stderr",
     "output_type": "stream",
     "text": [
      "/Users/giulia/anaconda3/lib/python3.7/site-packages/carto/sql.py:229: UserWarning: Batch SQL job created with job_id: 5a598560-99eb-43ed-85f1-fdcf1940e444\n",
      "  warnings.warn('Batch SQL job created with job_id: {job_id}'.format(job_id=data['job_id']))\n"
     ]
    },
    {
     "name": "stdout",
     "output_type": "stream",
     "text": [
      "meuse_krg\n",
      "(155, 17)\n"
     ]
    },
    {
     "name": "stderr",
     "output_type": "stream",
     "text": [
      "/Users/giulia/anaconda3/lib/python3.7/site-packages/carto/sql.py:229: UserWarning: Batch SQL job created with job_id: d9be462a-1578-466c-8dda-8d8a5e536c31\n",
      "  warnings.warn('Batch SQL job created with job_id: {job_id}'.format(job_id=data['job_id']))\n"
     ]
    },
    {
     "name": "stdout",
     "output_type": "stream",
     "text": [
      "meuse_grid_krg\n",
      "(3103, 10)\n"
     ]
    },
    {
     "name": "stderr",
     "output_type": "stream",
     "text": [
      "/Users/giulia/anaconda3/lib/python3.7/site-packages/carto/sql.py:229: UserWarning: Batch SQL job created with job_id: 51ff0e44-e38f-49f8-93f5-0dd06230dd9e\n",
      "  warnings.warn('Batch SQL job created with job_id: {job_id}'.format(job_id=data['job_id']))\n"
     ]
    },
    {
     "name": "stdout",
     "output_type": "stream",
     "text": [
      "meuse_grid\n",
      "(3103, 8)\n"
     ]
    },
    {
     "name": "stderr",
     "output_type": "stream",
     "text": [
      "/Users/giulia/anaconda3/lib/python3.7/site-packages/carto/sql.py:229: UserWarning: Batch SQL job created with job_id: 804b1c8b-6754-4565-bb75-cd637f4b7091\n",
      "  warnings.warn('Batch SQL job created with job_id: {job_id}'.format(job_id=data['job_id']))\n"
     ]
    },
    {
     "name": "stdout",
     "output_type": "stream",
     "text": [
      "meuse\n",
      "(155, 15)\n"
     ]
    },
    {
     "name": "stderr",
     "output_type": "stream",
     "text": [
      "/Users/giulia/anaconda3/lib/python3.7/site-packages/carto/sql.py:229: UserWarning: Batch SQL job created with job_id: 83e6179b-fa43-40a5-a86e-e06b18c70a7a\n",
      "  warnings.warn('Batch SQL job created with job_id: {job_id}'.format(job_id=data['job_id']))\n"
     ]
    },
    {
     "name": "stdout",
     "output_type": "stream",
     "text": [
      "boston_housing\n",
      "(506, 37)\n"
     ]
    },
    {
     "name": "stderr",
     "output_type": "stream",
     "text": [
      "/Users/giulia/anaconda3/lib/python3.7/site-packages/carto/sql.py:229: UserWarning: Batch SQL job created with job_id: 03e62ee4-472f-433f-82ca-762c7e8ea170\n",
      "  warnings.warn('Batch SQL job created with job_id: {job_id}'.format(job_id=data['job_id']))\n"
     ]
    },
    {
     "name": "stdout",
     "output_type": "stream",
     "text": [
      "boston_housing_mrf_inla\n",
      "(506, 44)\n"
     ]
    },
    {
     "name": "stderr",
     "output_type": "stream",
     "text": [
      "/Users/giulia/anaconda3/lib/python3.7/site-packages/carto/sql.py:229: UserWarning: Batch SQL job created with job_id: 55f306d1-5160-4204-89dd-731e877b20b2\n",
      "  warnings.warn('Batch SQL job created with job_id: {job_id}'.format(job_id=data['job_id']))\n"
     ]
    },
    {
     "name": "stdout",
     "output_type": "stream",
     "text": [
      "london_borough_excluding_mhw\n",
      "(33, 8)\n"
     ]
    },
    {
     "name": "stderr",
     "output_type": "stream",
     "text": [
      "/Users/giulia/anaconda3/lib/python3.7/site-packages/carto/sql.py:229: UserWarning: Batch SQL job created with job_id: 76d478b3-a658-4534-a1a8-0aaf6334fa62\n",
      "  warnings.warn('Batch SQL job created with job_id: {job_id}'.format(job_id=data['job_id']))\n"
     ]
    },
    {
     "name": "stdout",
     "output_type": "stream",
     "text": [
      "uk_police_street_crimes_2019_04\n",
      "(5352, 14)\n"
     ]
    },
    {
     "name": "stderr",
     "output_type": "stream",
     "text": [
      "/Users/giulia/anaconda3/lib/python3.7/site-packages/carto/sql.py:229: UserWarning: Batch SQL job created with job_id: acb19696-79cf-4dee-a405-c4858d4b765d\n",
      "  warnings.warn('Batch SQL job created with job_id: {job_id}'.format(job_id=data['job_id']))\n"
     ]
    },
    {
     "name": "stdout",
     "output_type": "stream",
     "text": [
      "nyc_flights\n",
      "(83, 6)\n"
     ]
    },
    {
     "name": "stderr",
     "output_type": "stream",
     "text": [
      "/Users/giulia/anaconda3/lib/python3.7/site-packages/carto/sql.py:229: UserWarning: Batch SQL job created with job_id: 2729e0ed-b33d-4913-9b17-67bef075702c\n",
      "  warnings.warn('Batch SQL job created with job_id: {job_id}'.format(job_id=data['job_id']))\n"
     ]
    },
    {
     "name": "stdout",
     "output_type": "stream",
     "text": [
      "ny_census_tracts_2010\n",
      "(4919, 197)\n"
     ]
    },
    {
     "name": "stderr",
     "output_type": "stream",
     "text": [
      "/Users/giulia/anaconda3/lib/python3.7/site-packages/carto/sql.py:229: UserWarning: Batch SQL job created with job_id: 52b6fa04-0fcd-4d0f-a6a3-e87e8ec0242b\n",
      "  warnings.warn('Batch SQL job created with job_id: {job_id}'.format(job_id=data['job_id']))\n"
     ]
    },
    {
     "name": "stdout",
     "output_type": "stream",
     "text": [
      "icoads_may3to5_2019\n",
      "(143065, 6)\n"
     ]
    },
    {
     "name": "stderr",
     "output_type": "stream",
     "text": [
      "/Users/giulia/anaconda3/lib/python3.7/site-packages/carto/sql.py:229: UserWarning: Batch SQL job created with job_id: 69630305-49d7-4443-b89d-deb2fcb7a699\n",
      "  warnings.warn('Batch SQL job created with job_id: {job_id}'.format(job_id=data['job_id']))\n"
     ]
    }
   ],
   "source": [
    "from cartoframes.data import Dataset\n",
    "from cartoframes.auth import Credentials\n",
    "from time import sleep\n",
    "\n",
    "andy_creds = Credentials('eschbacher')\n",
    "\n",
    "new_creds = Credentials('ebook-sds', '73b03a48f32739d6738c1625af78a05b6c38effe')\n",
    "\n",
    "all_tables = ['meuse_grid_inlaspde',\n",
    "'meuse_inlaspde',\n",
    "'meuse_krg',\n",
    "'meuse_grid_krg',\n",
    "'meuse_grid',\n",
    "'meuse',\n",
    "'boston_housing',\n",
    "'boston_housing_mrf_inla',\n",
    "'london_borough_excluding_mhw',\n",
    "'uk_police_street_crimes_2019_04',\n",
    "'nyc_flights',\n",
    "'ny_census_tracts_2010','icoads_may3to5_2019']\n",
    "\n",
    "for table in all_tables:\n",
    "    print(table)\n",
    "    sleep(20) \n",
    "    df = Dataset(table, credentials=andy_creds).download()\n",
    "    print(df.shape)\n",
    "    Dataset(df).upload(table_name=table, credentials=new_creds, if_exists='replace')"
   ]
  },
  {
   "cell_type": "code",
   "execution_count": null,
   "metadata": {},
   "outputs": [],
   "source": []
  }
 ],
 "metadata": {
  "kernelspec": {
   "display_name": "Python 3",
   "language": "python",
   "name": "python3"
  },
  "language_info": {
   "codemirror_mode": {
    "name": "ipython",
    "version": 3
   },
   "file_extension": ".py",
   "mimetype": "text/x-python",
   "name": "python",
   "nbconvert_exporter": "python",
   "pygments_lexer": "ipython3",
   "version": "3.7.3"
  }
 },
 "nbformat": 4,
 "nbformat_minor": 2
}
